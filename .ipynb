{
 "cells": [
  {
   "cell_type": "markdown",
   "metadata": {},
   "source": [
    "# Tarea:\n",
    "##### Nombre: Diego Palacios\n",
    "### Generar dos numeros pseudoaleatorios(los datos),deben utilizar dos librerias diferentes(1-6),sumar estos numeros y generar la siguiente tabla \n",
    "\n",
    "Suma  Frecuencia Probabilidad"
   ]
  },
  {
   "cell_type": "markdown",
   "metadata": {},
   "source": [
    "## Metodo randint\n",
    "### metodo con 100 numeros randomicos"
   ]
  },
  {
   "cell_type": "code",
   "execution_count": 27,
   "metadata": {},
   "outputs": [
    {
     "name": "stdout",
     "output_type": "stream",
     "text": [
      "suma \t Frecuencia \t probabilidad\n",
      "2 \t 1 \t \t 0.01\n",
      "3 \t 4 \t \t 0.04\n",
      "4 \t 6 \t \t 0.06\n",
      "5 \t 11 \t \t 0.11\n",
      "6 \t 9 \t \t 0.09\n",
      "7 \t 21 \t \t 0.21\n",
      "8 \t 17 \t \t 0.17\n",
      "9 \t 11 \t \t 0.11\n",
      "10 \t 14 \t \t 0.14\n",
      "11 \t 4 \t \t 0.04\n",
      "12 \t 2 \t \t 0.02\n"
     ]
    }
   ],
   "source": [
    "from random import randint\n",
    "rango=100\n",
    "a=[]\n",
    "b=[]\n",
    "suma=[]\n",
    "for x in range(0,rango):\n",
    "    a.append(randint(1,6))\n",
    "    b.append(randint(1,6))\n",
    "    suma.append(a[x]+b[x])\n",
    "    #print(a[x],\"+\",b[x], \"= \",suma[x])\n",
    "\n",
    "print(\"suma \\t Frecuencia \\t probabilidad\")\n",
    "for x in range(2,13):\n",
    "    frecuencia= suma.count(x)\n",
    "    print(x ,\"\\t\",frecuencia,\"\\t \\t\",frecuencia/rango)\n"
   ]
  },
  {
   "cell_type": "markdown",
   "metadata": {},
   "source": [
    "### con 1000 lanzamientos de dados"
   ]
  },
  {
   "cell_type": "code",
   "execution_count": 28,
   "metadata": {},
   "outputs": [
    {
     "name": "stdout",
     "output_type": "stream",
     "text": [
      "suma \t Frecuencia \t probabilidad\n",
      "2 \t 36 \t \t 0.036\n",
      "3 \t 59 \t \t 0.059\n",
      "4 \t 88 \t \t 0.088\n",
      "5 \t 112 \t \t 0.112\n",
      "6 \t 113 \t \t 0.113\n",
      "7 \t 167 \t \t 0.167\n",
      "8 \t 142 \t \t 0.142\n",
      "9 \t 114 \t \t 0.114\n",
      "10 \t 95 \t \t 0.095\n",
      "11 \t 37 \t \t 0.037\n",
      "12 \t 37 \t \t 0.037\n"
     ]
    }
   ],
   "source": [
    "from random import randint\n",
    "rango=1000\n",
    "a=[]\n",
    "b=[]\n",
    "suma=[]\n",
    "for x in range(0,rango):\n",
    "    a.append(randint(1,6))\n",
    "    b.append(randint(1,6))\n",
    "    suma.append(a[x]+b[x])\n",
    "    #print(a[x],\"+\",b[x], \"= \",suma[x])\n",
    "\n",
    "print(\"suma \\t Frecuencia \\t probabilidad\")\n",
    "for x in range(2,13):\n",
    "    frecuencia= suma.count(x)\n",
    "    print(x ,\"\\t\",frecuencia,\"\\t \\t\",frecuencia/rango)"
   ]
  },
  {
   "cell_type": "markdown",
   "metadata": {},
   "source": [
    "### con 10,000 lanzamientos"
   ]
  },
  {
   "cell_type": "code",
   "execution_count": 29,
   "metadata": {},
   "outputs": [
    {
     "name": "stdout",
     "output_type": "stream",
     "text": [
      "suma \t Frecuencia \t probabilidad\n",
      "2 \t 284 \t \t 0.0284\n",
      "3 \t 569 \t \t 0.0569\n",
      "4 \t 811 \t \t 0.0811\n",
      "5 \t 1121 \t \t 0.1121\n",
      "6 \t 1354 \t \t 0.1354\n",
      "7 \t 1690 \t \t 0.169\n",
      "8 \t 1401 \t \t 0.1401\n",
      "9 \t 1089 \t \t 0.1089\n",
      "10 \t 861 \t \t 0.0861\n",
      "11 \t 541 \t \t 0.0541\n",
      "12 \t 279 \t \t 0.0279\n"
     ]
    }
   ],
   "source": [
    "from random import randint\n",
    "rango=10000\n",
    "a=[]\n",
    "b=[]\n",
    "suma=[]\n",
    "for x in range(0,rango):\n",
    "    a.append(randint(1,6))\n",
    "    b.append(randint(1,6))\n",
    "    suma.append(a[x]+b[x])\n",
    "    #print(a[x],\"+\",b[x], \"= \",suma[x])\n",
    "\n",
    "print(\"suma \\t Frecuencia \\t probabilidad\")\n",
    "for x in range(2,13):\n",
    "    frecuencia= suma.count(x)\n",
    "    print(x ,\"\\t\",frecuencia,\"\\t \\t\",frecuencia/rango)"
   ]
  },
  {
   "cell_type": "markdown",
   "metadata": {},
   "source": [
    "## Metodo Random Numpy\n",
    "### metodo con 100 numeros randomicos"
   ]
  },
  {
   "cell_type": "code",
   "execution_count": 21,
   "metadata": {},
   "outputs": [
    {
     "name": "stdout",
     "output_type": "stream",
     "text": [
      "numpy\n",
      "suma \t Frecuencia \t probabilidad\n",
      "2 \t 6 \t \t 0.06\n",
      "3 \t 6 \t \t 0.06\n",
      "4 \t 10 \t \t 0.1\n",
      "5 \t 9 \t \t 0.09\n",
      "6 \t 13 \t \t 0.13\n",
      "7 \t 9 \t \t 0.09\n",
      "8 \t 22 \t \t 0.22\n",
      "9 \t 12 \t \t 0.12\n",
      "10 \t 6 \t \t 0.06\n",
      "11 \t 5 \t \t 0.05\n",
      "12 \t 2 \t \t 0.02\n"
     ]
    }
   ],
   "source": [
    "#pip install numpy\n",
    "import numpy as np\n",
    "rango=100\n",
    "a=[]\n",
    "b=[]\n",
    "suma=[]\n",
    "\n",
    "for x in range(0,rango):\n",
    "    a.append(np.random.randint(1,7))\n",
    "    b.append(np.random.randint(1,7))\n",
    "    suma.append(a[x]+b[x])\n",
    "    #print(a[x],\"+\",b[x], \"= \",suma[x])\n",
    "print(\"numpy\")\n",
    "print(\"suma \\t Frecuencia \\t probabilidad\")\n",
    "for x in range(2,13):\n",
    "    frecuencia= suma.count(x)\n",
    "    print(x ,\"\\t\",frecuencia,\"\\t \\t\",frecuencia/rango)"
   ]
  },
  {
   "cell_type": "markdown",
   "metadata": {},
   "source": [
    "### metodo con 1000 metodos randomicos"
   ]
  },
  {
   "cell_type": "code",
   "execution_count": 18,
   "metadata": {},
   "outputs": [
    {
     "name": "stdout",
     "output_type": "stream",
     "text": [
      "numpy\n",
      "suma \t Frecuencia \t probabilidad\n",
      "2 \t 21 \t \t 0.021\n",
      "3 \t 70 \t \t 0.07\n",
      "4 \t 87 \t \t 0.087\n",
      "5 \t 105 \t \t 0.105\n",
      "6 \t 150 \t \t 0.15\n",
      "7 \t 159 \t \t 0.159\n",
      "8 \t 138 \t \t 0.138\n",
      "9 \t 113 \t \t 0.113\n",
      "10 \t 82 \t \t 0.082\n",
      "11 \t 49 \t \t 0.049\n",
      "12 \t 26 \t \t 0.026\n"
     ]
    }
   ],
   "source": [
    "#pip install numpy\n",
    "import numpy as np\n",
    "rango=1000\n",
    "a=[]\n",
    "b=[]\n",
    "suma=[]\n",
    "\n",
    "for x in range(0,rango):\n",
    "    a.append(np.random.randint(1,7))\n",
    "    b.append(np.random.randint(1,7))\n",
    "    suma.append(a[x]+b[x])\n",
    "   # print(a[x],\"+\",b[x], \"= \",suma[x])\n",
    "print(\"numpy\")\n",
    "print(\"suma \\t Frecuencia \\t probabilidad\")\n",
    "for x in range(2,13):\n",
    "    frecuencia= suma.count(x)\n",
    "    print(x ,\"\\t\",frecuencia,\"\\t \\t\",frecuencia/rango)"
   ]
  },
  {
   "cell_type": "markdown",
   "metadata": {},
   "source": [
    "### metodo con 10000 metoso randomico"
   ]
  },
  {
   "cell_type": "code",
   "execution_count": 6,
   "metadata": {},
   "outputs": [
    {
     "name": "stdout",
     "output_type": "stream",
     "text": [
      "numpy\n",
      "suma \t Frecuencia \t probabilidad\n",
      "2 \t 295 \t \t 0.0295\n",
      "3 \t 541 \t \t 0.0541\n",
      "4 \t 894 \t \t 0.0894\n",
      "5 \t 1080 \t \t 0.108\n",
      "6 \t 1344 \t \t 0.1344\n",
      "7 \t 1678 \t \t 0.1678\n",
      "8 \t 1399 \t \t 0.1399\n",
      "9 \t 1128 \t \t 0.1128\n",
      "10 \t 800 \t \t 0.08\n",
      "11 \t 563 \t \t 0.0563\n",
      "12 \t 278 \t \t 0.0278\n"
     ]
    }
   ],
   "source": [
    "#pip install numpy\n",
    "import numpy as np\n",
    "rango=10000\n",
    "a=[]\n",
    "b=[]\n",
    "suma=[]\n",
    "\n",
    "for x in range(0,rango):\n",
    "    a.append(np.random.randint(1,7))\n",
    "    b.append(np.random.randint(1,7))\n",
    "    suma.append(a[x]+b[x])\n",
    "    #print(a[x],\"+\",b[x], \"= \",suma[x])\n",
    "print(\"numpy\")\n",
    "print(\"suma \\t Frecuencia \\t probabilidad\")\n",
    "for x in range(2,13):\n",
    "    frecuencia= suma.count(x)\n",
    "    print(x ,\"\\t\",frecuencia,\"\\t \\t\",frecuencia/rango)"
   ]
  },
  {
   "cell_type": "markdown",
   "metadata": {},
   "source": [
    "## conclución\n",
    "\n",
    "\n",
    "En esta tarea podemos observar al usaar dos librerias distintas la mayor mayor frecuencia se da en los numero intermedios comprendidos entre(5-9) en los dos casos se puede decir que usan un algoritmo similar que al generar los numeros randomicos la mayor coincidencia son los numeros intermedios en el rango \n"
   ]
  }
 ],
 "metadata": {
  "kernelspec": {
   "display_name": "Python 3",
   "language": "python",
   "name": "python3"
  },
  "language_info": {
   "codemirror_mode": {
    "name": "ipython",
    "version": 3
   },
   "file_extension": ".py",
   "mimetype": "text/x-python",
   "name": "python",
   "nbconvert_exporter": "python",
   "pygments_lexer": "ipython3",
   "version": "3.7.1"
  }
 },
 "nbformat": 4,
 "nbformat_minor": 2
}
