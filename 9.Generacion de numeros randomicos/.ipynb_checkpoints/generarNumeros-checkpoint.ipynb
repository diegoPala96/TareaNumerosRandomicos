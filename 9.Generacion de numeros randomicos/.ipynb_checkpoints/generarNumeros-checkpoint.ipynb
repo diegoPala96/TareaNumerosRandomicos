{
 "cells": [
  {
   "cell_type": "markdown",
   "metadata": {},
   "source": [
    "# Generación de numeros randomicos\n",
    "Realizado por: Diego Palacios.\n",
    "Realizar la generación de numeros randomicos con el metodo indicado en clases de debe consideras como parametros iniciales :\n",
    "\n",
    "Numero de interacciones <br>\n",
    "Semilla<br>\n",
    "Digitos<br>"
   ]
  },
  {
   "cell_type": "code",
   "execution_count": 85,
   "metadata": {},
   "outputs": [
    {
     "name": "stdout",
     "output_type": "stream",
     "text": [
      "ingrese el numero de iteraciones\n",
      "100\n",
      "ingrese la semilla\n",
      "8305\n",
      "digitos\n",
      "4\n"
     ]
    }
   ],
   "source": [
    "print(\"ingrese el numero de iteraciones\")\n",
    "iteraciones= int(input())\n",
    "print(\"ingrese la semilla\")\n",
    "semilla=int(input())\n",
    "print(\"digitos\")\n",
    "digitos=int(input())\n",
    "\n"
   ]
  },
  {
   "cell_type": "code",
   "execution_count": 86,
   "metadata": {},
   "outputs": [
    {
     "name": "stdout",
     "output_type": "stream",
     "text": [
      "iteracion \t xn \t xn^2 \t longitud \t ui \t rn\n",
      "0 \t \t 8305 \t 68973025 \t 8 \t 9730 \t 0.973\n",
      "1 \t \t 9730 \t 94672900 \t 8 \t 6729 \t 0.6729\n",
      "2 \t \t 6729 \t 45279441 \t 8 \t 2794 \t 0.2794\n",
      "3 \t \t 2794 \t 07806436 \t 8 \t 8064 \t 0.8064\n",
      "4 \t \t 8064 \t 65028096 \t 8 \t 0280 \t 0.028\n",
      "5 \t \t 280 \t 00078400 \t 8 \t 0784 \t 0.0784\n",
      "6 \t \t 784 \t 00614656 \t 8 \t 6146 \t 0.6146\n",
      "7 \t \t 6146 \t 37773316 \t 8 \t 7733 \t 0.7733\n",
      "8 \t \t 7733 \t 59799289 \t 8 \t 7992 \t 0.7992\n",
      "9 \t \t 7992 \t 63872064 \t 8 \t 8720 \t 0.872\n",
      "10 \t \t 8720 \t 76038400 \t 8 \t 0384 \t 0.0384\n",
      "11 \t \t 384 \t 00147456 \t 8 \t 1474 \t 0.1474\n",
      "12 \t \t 1474 \t 02172676 \t 8 \t 1726 \t 0.1726\n",
      "13 \t \t 1726 \t 02979076 \t 8 \t 9790 \t 0.979\n",
      "14 \t \t 9790 \t 95844100 \t 8 \t 8441 \t 0.8441\n",
      "15 \t \t 8441 \t 71250481 \t 8 \t 2504 \t 0.2504\n",
      "16 \t \t 2504 \t 06270016 \t 8 \t 2700 \t 0.27\n",
      "17 \t \t 2700 \t 07290000 \t 8 \t 2900 \t 0.29\n",
      "18 \t \t 2900 \t 08410000 \t 8 \t 4100 \t 0.41\n",
      "19 \t \t 4100 \t 16810000 \t 8 \t 8100 \t 0.81\n",
      "20 \t \t 8100 \t 65610000 \t 8 \t 6100 \t 0.61\n",
      "21 \t \t 6100 \t 37210000 \t 8 \t 2100 \t 0.21\n",
      "22 \t \t 2100 \t 04410000 \t 8 \t 4100 \t 0.41\n",
      "23 \t \t 4100 \t 16810000 \t 8 \t 8100 \t 0.81\n",
      "24 \t \t 8100 \t 65610000 \t 8 \t 6100 \t 0.61\n",
      "25 \t \t 6100 \t 37210000 \t 8 \t 2100 \t 0.21\n",
      "26 \t \t 2100 \t 04410000 \t 8 \t 4100 \t 0.41\n",
      "27 \t \t 4100 \t 16810000 \t 8 \t 8100 \t 0.81\n",
      "28 \t \t 8100 \t 65610000 \t 8 \t 6100 \t 0.61\n",
      "29 \t \t 6100 \t 37210000 \t 8 \t 2100 \t 0.21\n",
      "30 \t \t 2100 \t 04410000 \t 8 \t 4100 \t 0.41\n",
      "31 \t \t 4100 \t 16810000 \t 8 \t 8100 \t 0.81\n",
      "32 \t \t 8100 \t 65610000 \t 8 \t 6100 \t 0.61\n",
      "33 \t \t 6100 \t 37210000 \t 8 \t 2100 \t 0.21\n",
      "34 \t \t 2100 \t 04410000 \t 8 \t 4100 \t 0.41\n",
      "35 \t \t 4100 \t 16810000 \t 8 \t 8100 \t 0.81\n",
      "36 \t \t 8100 \t 65610000 \t 8 \t 6100 \t 0.61\n",
      "37 \t \t 6100 \t 37210000 \t 8 \t 2100 \t 0.21\n",
      "38 \t \t 2100 \t 04410000 \t 8 \t 4100 \t 0.41\n",
      "39 \t \t 4100 \t 16810000 \t 8 \t 8100 \t 0.81\n",
      "40 \t \t 8100 \t 65610000 \t 8 \t 6100 \t 0.61\n",
      "41 \t \t 6100 \t 37210000 \t 8 \t 2100 \t 0.21\n",
      "42 \t \t 2100 \t 04410000 \t 8 \t 4100 \t 0.41\n",
      "43 \t \t 4100 \t 16810000 \t 8 \t 8100 \t 0.81\n",
      "44 \t \t 8100 \t 65610000 \t 8 \t 6100 \t 0.61\n",
      "45 \t \t 6100 \t 37210000 \t 8 \t 2100 \t 0.21\n",
      "46 \t \t 2100 \t 04410000 \t 8 \t 4100 \t 0.41\n",
      "47 \t \t 4100 \t 16810000 \t 8 \t 8100 \t 0.81\n",
      "48 \t \t 8100 \t 65610000 \t 8 \t 6100 \t 0.61\n",
      "49 \t \t 6100 \t 37210000 \t 8 \t 2100 \t 0.21\n",
      "50 \t \t 2100 \t 04410000 \t 8 \t 4100 \t 0.41\n",
      "51 \t \t 4100 \t 16810000 \t 8 \t 8100 \t 0.81\n",
      "52 \t \t 8100 \t 65610000 \t 8 \t 6100 \t 0.61\n",
      "53 \t \t 6100 \t 37210000 \t 8 \t 2100 \t 0.21\n",
      "54 \t \t 2100 \t 04410000 \t 8 \t 4100 \t 0.41\n",
      "55 \t \t 4100 \t 16810000 \t 8 \t 8100 \t 0.81\n",
      "56 \t \t 8100 \t 65610000 \t 8 \t 6100 \t 0.61\n",
      "57 \t \t 6100 \t 37210000 \t 8 \t 2100 \t 0.21\n",
      "58 \t \t 2100 \t 04410000 \t 8 \t 4100 \t 0.41\n",
      "59 \t \t 4100 \t 16810000 \t 8 \t 8100 \t 0.81\n",
      "60 \t \t 8100 \t 65610000 \t 8 \t 6100 \t 0.61\n",
      "61 \t \t 6100 \t 37210000 \t 8 \t 2100 \t 0.21\n",
      "62 \t \t 2100 \t 04410000 \t 8 \t 4100 \t 0.41\n",
      "63 \t \t 4100 \t 16810000 \t 8 \t 8100 \t 0.81\n",
      "64 \t \t 8100 \t 65610000 \t 8 \t 6100 \t 0.61\n",
      "65 \t \t 6100 \t 37210000 \t 8 \t 2100 \t 0.21\n",
      "66 \t \t 2100 \t 04410000 \t 8 \t 4100 \t 0.41\n",
      "67 \t \t 4100 \t 16810000 \t 8 \t 8100 \t 0.81\n",
      "68 \t \t 8100 \t 65610000 \t 8 \t 6100 \t 0.61\n",
      "69 \t \t 6100 \t 37210000 \t 8 \t 2100 \t 0.21\n",
      "70 \t \t 2100 \t 04410000 \t 8 \t 4100 \t 0.41\n",
      "71 \t \t 4100 \t 16810000 \t 8 \t 8100 \t 0.81\n",
      "72 \t \t 8100 \t 65610000 \t 8 \t 6100 \t 0.61\n",
      "73 \t \t 6100 \t 37210000 \t 8 \t 2100 \t 0.21\n",
      "74 \t \t 2100 \t 04410000 \t 8 \t 4100 \t 0.41\n",
      "75 \t \t 4100 \t 16810000 \t 8 \t 8100 \t 0.81\n",
      "76 \t \t 8100 \t 65610000 \t 8 \t 6100 \t 0.61\n",
      "77 \t \t 6100 \t 37210000 \t 8 \t 2100 \t 0.21\n",
      "78 \t \t 2100 \t 04410000 \t 8 \t 4100 \t 0.41\n",
      "79 \t \t 4100 \t 16810000 \t 8 \t 8100 \t 0.81\n",
      "80 \t \t 8100 \t 65610000 \t 8 \t 6100 \t 0.61\n",
      "81 \t \t 6100 \t 37210000 \t 8 \t 2100 \t 0.21\n",
      "82 \t \t 2100 \t 04410000 \t 8 \t 4100 \t 0.41\n",
      "83 \t \t 4100 \t 16810000 \t 8 \t 8100 \t 0.81\n",
      "84 \t \t 8100 \t 65610000 \t 8 \t 6100 \t 0.61\n",
      "85 \t \t 6100 \t 37210000 \t 8 \t 2100 \t 0.21\n",
      "86 \t \t 2100 \t 04410000 \t 8 \t 4100 \t 0.41\n",
      "87 \t \t 4100 \t 16810000 \t 8 \t 8100 \t 0.81\n",
      "88 \t \t 8100 \t 65610000 \t 8 \t 6100 \t 0.61\n",
      "89 \t \t 6100 \t 37210000 \t 8 \t 2100 \t 0.21\n",
      "90 \t \t 2100 \t 04410000 \t 8 \t 4100 \t 0.41\n",
      "91 \t \t 4100 \t 16810000 \t 8 \t 8100 \t 0.81\n",
      "92 \t \t 8100 \t 65610000 \t 8 \t 6100 \t 0.61\n",
      "93 \t \t 6100 \t 37210000 \t 8 \t 2100 \t 0.21\n",
      "94 \t \t 2100 \t 04410000 \t 8 \t 4100 \t 0.41\n",
      "95 \t \t 4100 \t 16810000 \t 8 \t 8100 \t 0.81\n",
      "96 \t \t 8100 \t 65610000 \t 8 \t 6100 \t 0.61\n",
      "97 \t \t 6100 \t 37210000 \t 8 \t 2100 \t 0.21\n",
      "98 \t \t 2100 \t 04410000 \t 8 \t 4100 \t 0.41\n",
      "99 \t \t 4100 \t 16810000 \t 8 \t 8100 \t 0.81\n"
     ]
    }
   ],
   "source": [
    "xn=semilla\n",
    "frac=10**digitos\n",
    "print(\"iteracion \\t xn \\t xn^2 \\t longitud \\t ui \\t rn\")\n",
    "for i in range(iteraciones):\n",
    "    xn2=xn*xn\n",
    "    cadena=str(xn2).zfill(8)\n",
    "    longitud=int(len(str(cadena)))\n",
    "    medio=int(longitud/2)\n",
    "    ui=int(cadena[(medio-2):medio]+cadena[medio:(medio+2)])\n",
    "    rn=ui/frac\n",
    "    print(i,\"\\t \\t\",xn,\"\\t\",cadena,\"\\t\", longitud,\"\\t\",str(ui).zfill(4),\"\\t\",rn)\n",
    "    xn=ui"
   ]
  },
  {
   "cell_type": "code",
   "execution_count": 67,
   "metadata": {},
   "outputs": [
    {
     "data": {
      "text/plain": [
       "7"
      ]
     },
     "execution_count": 67,
     "metadata": {},
     "output_type": "execute_result"
    }
   ],
   "source": []
  }
 ],
 "metadata": {
  "kernelspec": {
   "display_name": "Python 3",
   "language": "python",
   "name": "python3"
  },
  "language_info": {
   "codemirror_mode": {
    "name": "ipython",
    "version": 3
   },
   "file_extension": ".py",
   "mimetype": "text/x-python",
   "name": "python",
   "nbconvert_exporter": "python",
   "pygments_lexer": "ipython3",
   "version": "3.7.7"
  }
 },
 "nbformat": 4,
 "nbformat_minor": 4
}
