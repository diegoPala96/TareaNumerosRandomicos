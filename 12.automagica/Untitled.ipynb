{
 "cells": [
  {
   "cell_type": "markdown",
   "metadata": {},
   "source": [
    "# Manejo de herramienta Automagica\n",
    "\n",
    "uso de la extension de Windos OS, Process and Terminal\n"
   ]
  },
  {
   "cell_type": "markdown",
   "metadata": {},
   "source": [
    "## Windos Os"
   ]
  },
  {
   "cell_type": "code",
   "execution_count": 1,
   "metadata": {},
   "outputs": [],
   "source": [
    "from automagica import *"
   ]
  },
  {
   "cell_type": "markdown",
   "metadata": {},
   "source": [
    "Bloquear la pantalla de windos"
   ]
  },
  {
   "cell_type": "code",
   "execution_count": 2,
   "metadata": {},
   "outputs": [],
   "source": [
    "lock_windows()"
   ]
  },
  {
   "cell_type": "markdown",
   "metadata": {},
   "source": [
    "Obtenciaon del usuario"
   ]
  },
  {
   "cell_type": "code",
   "execution_count": 3,
   "metadata": {},
   "outputs": [
    {
     "data": {
      "text/plain": [
       "'Diego'"
      ]
     },
     "execution_count": 3,
     "metadata": {},
     "output_type": "execute_result"
    }
   ],
   "source": [
    "get_username()"
   ]
  },
  {
   "cell_type": "markdown",
   "metadata": {},
   "source": [
    "permite pasar a el portal de copia es igual que hacer un $ctrl+c$ ya que se copia nuestro mensaje "
   ]
  },
  {
   "cell_type": "code",
   "execution_count": 4,
   "metadata": {},
   "outputs": [
    {
     "name": "stdout",
     "output_type": "stream",
     "text": [
      "A robots favourite food must be computer chips\n"
     ]
    }
   ],
   "source": [
    "sample_text = 'A robots favourite food must be computer chips'\n",
    "\n",
    "set_to_clipboard(sample_text)\n",
    "print( get_from_clipboard() )"
   ]
  },
  {
   "cell_type": "markdown",
   "metadata": {},
   "source": [
    "elimina nuestra copia"
   ]
  },
  {
   "cell_type": "code",
   "execution_count": 5,
   "metadata": {},
   "outputs": [
    {
     "name": "stdout",
     "output_type": "stream",
     "text": [
      "None\n"
     ]
    }
   ],
   "source": [
    "clear_clipboard()\n",
    "print( get_from_clipboard() )"
   ]
  },
  {
   "cell_type": "markdown",
   "metadata": {},
   "source": [
    "Buscamos el notepad"
   ]
  },
  {
   "cell_type": "code",
   "execution_count": 13,
   "metadata": {},
   "outputs": [
    {
     "data": {
      "text/plain": [
       "'Untitled - Notepad'"
      ]
     },
     "execution_count": 13,
     "metadata": {},
     "output_type": "execute_result"
    }
   ],
   "source": [
    "find_window_title('Notepad')"
   ]
  },
  {
   "cell_type": "markdown",
   "metadata": {},
   "source": [
    "tambien se puede cerrar una ventana  en este caso referenciamos la de notepad"
   ]
  },
  {
   "cell_type": "code",
   "execution_count": 15,
   "metadata": {},
   "outputs": [
    {
     "ename": "error",
     "evalue": "(5, 'DestroyWindow', 'Access is denied.')",
     "output_type": "error",
     "traceback": [
      "\u001b[1;31m---------------------------------------------------------------------------\u001b[0m",
      "\u001b[1;31merror\u001b[0m                                     Traceback (most recent call last)",
      "\u001b[1;32m<ipython-input-15-4cea312e7c37>\u001b[0m in \u001b[0;36m<module>\u001b[1;34m\u001b[0m\n\u001b[1;32m----> 1\u001b[1;33m \u001b[0mclose_window\u001b[0m\u001b[1;33m(\u001b[0m\u001b[1;34m'Untitled - Notepad'\u001b[0m\u001b[1;33m)\u001b[0m\u001b[1;33m\u001b[0m\u001b[1;33m\u001b[0m\u001b[0m\n\u001b[0m",
      "\u001b[1;32mD:\\Users\\Diego\\anaconda3\\envs\\simulacion\\lib\\site-packages\\automagica\\utilities.py\u001b[0m in \u001b[0;36mwrapper\u001b[1;34m(*args, **kwargs)\u001b[0m\n\u001b[0;32m     15\u001b[0m         \u001b[0mlogging\u001b[0m\u001b[1;33m.\u001b[0m\u001b[0minfo\u001b[0m\u001b[1;33m(\u001b[0m\u001b[1;34m\"Automagica (activity): {}\"\u001b[0m\u001b[1;33m.\u001b[0m\u001b[0mformat\u001b[0m\u001b[1;33m(\u001b[0m\u001b[0mname\u001b[0m\u001b[1;33m)\u001b[0m\u001b[1;33m)\u001b[0m\u001b[1;33m\u001b[0m\u001b[1;33m\u001b[0m\u001b[0m\n\u001b[0;32m     16\u001b[0m         \u001b[0mtelemetry\u001b[0m\u001b[1;33m(\u001b[0m\u001b[0mfunc\u001b[0m\u001b[1;33m)\u001b[0m\u001b[1;33m\u001b[0m\u001b[1;33m\u001b[0m\u001b[0m\n\u001b[1;32m---> 17\u001b[1;33m         \u001b[1;32mreturn\u001b[0m \u001b[0mfunc\u001b[0m\u001b[1;33m(\u001b[0m\u001b[1;33m*\u001b[0m\u001b[0margs\u001b[0m\u001b[1;33m,\u001b[0m \u001b[1;33m**\u001b[0m\u001b[0mkwargs\u001b[0m\u001b[1;33m)\u001b[0m\u001b[1;33m\u001b[0m\u001b[1;33m\u001b[0m\u001b[0m\n\u001b[0m\u001b[0;32m     18\u001b[0m \u001b[1;33m\u001b[0m\u001b[0m\n\u001b[0;32m     19\u001b[0m     \u001b[1;32mreturn\u001b[0m \u001b[0mwrapper\u001b[0m\u001b[1;33m\u001b[0m\u001b[1;33m\u001b[0m\u001b[0m\n",
      "\u001b[1;32mD:\\Users\\Diego\\anaconda3\\envs\\simulacion\\lib\\site-packages\\automagica\\activities.py\u001b[0m in \u001b[0;36mclose_window\u001b[1;34m(title)\u001b[0m\n\u001b[0;32m   6816\u001b[0m         \u001b[1;32mraise\u001b[0m \u001b[0mException\u001b[0m\u001b[1;33m(\u001b[0m\u001b[1;34m'Could not find a window with title \"{}\"'\u001b[0m\u001b[1;33m.\u001b[0m\u001b[0mformat\u001b[0m\u001b[1;33m(\u001b[0m\u001b[0mtitle\u001b[0m\u001b[1;33m)\u001b[0m\u001b[1;33m)\u001b[0m\u001b[1;33m\u001b[0m\u001b[1;33m\u001b[0m\u001b[0m\n\u001b[0;32m   6817\u001b[0m \u001b[1;33m\u001b[0m\u001b[0m\n\u001b[1;32m-> 6818\u001b[1;33m     \u001b[0mwin32gui\u001b[0m\u001b[1;33m.\u001b[0m\u001b[0mDestroyWindow\u001b[0m\u001b[1;33m(\u001b[0m\u001b[0mhandle\u001b[0m\u001b[1;33m)\u001b[0m\u001b[1;33m\u001b[0m\u001b[1;33m\u001b[0m\u001b[0m\n\u001b[0m\u001b[0;32m   6819\u001b[0m \u001b[1;33m\u001b[0m\u001b[0m\n\u001b[0;32m   6820\u001b[0m \u001b[1;33m\u001b[0m\u001b[0m\n",
      "\u001b[1;31merror\u001b[0m: (5, 'DestroyWindow', 'Access is denied.')"
     ]
    }
   ],
   "source": [
    "close_window('Untitled - Notepad')\n"
   ]
  },
  {
   "cell_type": "code",
   "execution_count": 16,
   "metadata": {},
   "outputs": [
    {
     "ename": "error",
     "evalue": "(0, 'SetForegroundWindow', 'No error message is available')",
     "output_type": "error",
     "traceback": [
      "\u001b[1;31m---------------------------------------------------------------------------\u001b[0m",
      "\u001b[1;31merror\u001b[0m                                     Traceback (most recent call last)",
      "\u001b[1;32m<ipython-input-16-8e601acc2080>\u001b[0m in \u001b[0;36m<module>\u001b[1;34m\u001b[0m\n\u001b[1;32m----> 1\u001b[1;33m \u001b[0mmaximize_window\u001b[0m\u001b[1;33m(\u001b[0m\u001b[1;34m'Untitled - Notepad'\u001b[0m\u001b[1;33m)\u001b[0m\u001b[1;33m\u001b[0m\u001b[1;33m\u001b[0m\u001b[0m\n\u001b[0m",
      "\u001b[1;32mD:\\Users\\Diego\\anaconda3\\envs\\simulacion\\lib\\site-packages\\automagica\\utilities.py\u001b[0m in \u001b[0;36mwrapper\u001b[1;34m(*args, **kwargs)\u001b[0m\n\u001b[0;32m     15\u001b[0m         \u001b[0mlogging\u001b[0m\u001b[1;33m.\u001b[0m\u001b[0minfo\u001b[0m\u001b[1;33m(\u001b[0m\u001b[1;34m\"Automagica (activity): {}\"\u001b[0m\u001b[1;33m.\u001b[0m\u001b[0mformat\u001b[0m\u001b[1;33m(\u001b[0m\u001b[0mname\u001b[0m\u001b[1;33m)\u001b[0m\u001b[1;33m)\u001b[0m\u001b[1;33m\u001b[0m\u001b[1;33m\u001b[0m\u001b[0m\n\u001b[0;32m     16\u001b[0m         \u001b[0mtelemetry\u001b[0m\u001b[1;33m(\u001b[0m\u001b[0mfunc\u001b[0m\u001b[1;33m)\u001b[0m\u001b[1;33m\u001b[0m\u001b[1;33m\u001b[0m\u001b[0m\n\u001b[1;32m---> 17\u001b[1;33m         \u001b[1;32mreturn\u001b[0m \u001b[0mfunc\u001b[0m\u001b[1;33m(\u001b[0m\u001b[1;33m*\u001b[0m\u001b[0margs\u001b[0m\u001b[1;33m,\u001b[0m \u001b[1;33m**\u001b[0m\u001b[0mkwargs\u001b[0m\u001b[1;33m)\u001b[0m\u001b[1;33m\u001b[0m\u001b[1;33m\u001b[0m\u001b[0m\n\u001b[0m\u001b[0;32m     18\u001b[0m \u001b[1;33m\u001b[0m\u001b[0m\n\u001b[0;32m     19\u001b[0m     \u001b[1;32mreturn\u001b[0m \u001b[0mwrapper\u001b[0m\u001b[1;33m\u001b[0m\u001b[1;33m\u001b[0m\u001b[0m\n",
      "\u001b[1;32mD:\\Users\\Diego\\anaconda3\\envs\\simulacion\\lib\\site-packages\\automagica\\activities.py\u001b[0m in \u001b[0;36mmaximize_window\u001b[1;34m(title)\u001b[0m\n\u001b[0;32m   6848\u001b[0m \u001b[1;33m\u001b[0m\u001b[0m\n\u001b[0;32m   6849\u001b[0m     \u001b[0mwin32gui\u001b[0m\u001b[1;33m.\u001b[0m\u001b[0mShowWindow\u001b[0m\u001b[1;33m(\u001b[0m\u001b[0mhandle\u001b[0m\u001b[1;33m,\u001b[0m \u001b[0mwin32con\u001b[0m\u001b[1;33m.\u001b[0m\u001b[0mSW_SHOWMAXIMIZED\u001b[0m\u001b[1;33m)\u001b[0m\u001b[1;33m\u001b[0m\u001b[1;33m\u001b[0m\u001b[0m\n\u001b[1;32m-> 6850\u001b[1;33m     \u001b[0mwin32gui\u001b[0m\u001b[1;33m.\u001b[0m\u001b[0mSetForegroundWindow\u001b[0m\u001b[1;33m(\u001b[0m\u001b[0mhandle\u001b[0m\u001b[1;33m)\u001b[0m\u001b[1;33m\u001b[0m\u001b[1;33m\u001b[0m\u001b[0m\n\u001b[0m\u001b[0;32m   6851\u001b[0m \u001b[1;33m\u001b[0m\u001b[0m\n\u001b[0;32m   6852\u001b[0m \u001b[1;33m\u001b[0m\u001b[0m\n",
      "\u001b[1;31merror\u001b[0m: (0, 'SetForegroundWindow', 'No error message is available')"
     ]
    }
   ],
   "source": [
    "maximize_window('Untitled - Notepad')"
   ]
  },
  {
   "cell_type": "markdown",
   "metadata": {},
   "source": [
    "## Process\n",
    "\n",
    "nos permite ejecutar programas de forma directa atravez del comando run,al ejecutar $run('mspaint.exe')$ estamos indicando que se debe abrir el paint, es lo mismo que ejecutemos desde el comando run en Windos"
   ]
  },
  {
   "cell_type": "code",
   "execution_count": 8,
   "metadata": {},
   "outputs": [],
   "source": [
    "run('mspaint.exe')\n",
    "#run('calc.exe')"
   ]
  },
  {
   "cell_type": "markdown",
   "metadata": {},
   "source": [
    "se puede verificar si fue ejecutado de forma correcta el paint con la siguiente linea is_process_running('mspaint.exe') nos devolvera un mensaje de True o False siendo true que se ejecuto la herramienta solicitada."
   ]
  },
  {
   "cell_type": "code",
   "execution_count": 9,
   "metadata": {},
   "outputs": [
    {
     "data": {
      "text/plain": [
       "True"
      ]
     },
     "execution_count": 9,
     "metadata": {},
     "output_type": "execute_result"
    }
   ],
   "source": [
    "is_process_running('mspaint.exe')"
   ]
  },
  {
   "cell_type": "markdown",
   "metadata": {},
   "source": [
    "listamos todos los programas ejecutados en nuestro ordenador"
   ]
  },
  {
   "cell_type": "code",
   "execution_count": 10,
   "metadata": {},
   "outputs": [
    {
     "data": {
      "text/plain": [
       "['csrss.exe',\n",
       " 'YourPhone.exe',\n",
       " 'SettingSyncHost.exe',\n",
       " 'QALockHandler.exe',\n",
       " 'NisSrv.exe',\n",
       " 'IAStorDataMgrSvc.exe',\n",
       " 'PredatorSense.exe',\n",
       " 'TextInputHost.exe',\n",
       " 'System Idle Process',\n",
       " 'NVDisplay.Container.exe',\n",
       " 'System',\n",
       " 'MsMpEng.exe',\n",
       " 'wlanext.exe',\n",
       " 'SearchProtocolHost.exe',\n",
       " 'TaskbarX.exe',\n",
       " 'armsvc.exe',\n",
       " 'aesm_service.exe',\n",
       " 'PSAgent.exe',\n",
       " 'sqlwriter.exe',\n",
       " 'NVIDIA Web Helper.exe',\n",
       " 'services.exe',\n",
       " 'msedge.exe',\n",
       " 'YourPhoneServer.exe',\n",
       " 'mspaint.exe',\n",
       " 'GoogleCrashHandler64.exe',\n",
       " 'KillerNetworkService.exe',\n",
       " 'NVIDIA Share.exe',\n",
       " 'UnrealCEFSubProcess.exe',\n",
       " 'pg_ctl.exe',\n",
       " 'WavesSvc64.exe',\n",
       " 'unsecapp.exe',\n",
       " 'SearchApp.exe',\n",
       " 'SgrmBroker.exe',\n",
       " 'explorer.exe',\n",
       " 'WinStore.App.exe',\n",
       " 'SystemSettings.exe',\n",
       " 'sihost.exe',\n",
       " 'winlogon.exe',\n",
       " 'audiodg.exe',\n",
       " 'Cortana.exe',\n",
       " 'ApplicationFrameHost.exe',\n",
       " 'ibtsiva.exe',\n",
       " 'UBTService.exe',\n",
       " 'smartscreen.exe',\n",
       " 'XtuService.exe',\n",
       " 'nvsphelper64.exe',\n",
       " 'StorPSCTL.exe',\n",
       " 'Calculator.exe',\n",
       " 'IAStorIcon.exe',\n",
       " 'taskhostw.exe',\n",
       " 'QAAdminAgent.exe',\n",
       " 'svchost.exe',\n",
       " 'conhost.exe',\n",
       " 'jupyter-notebook.exe',\n",
       " 'GoogleCrashHandler.exe',\n",
       " 'lsass.exe',\n",
       " 'postgres.exe',\n",
       " 'LockApp.exe',\n",
       " 'ACEStd.exe',\n",
       " 'Registry',\n",
       " 'ctfmon.exe',\n",
       " 'dllhost.exe',\n",
       " 'jhi_service.exe',\n",
       " 'wininit.exe',\n",
       " 'jusched.exe',\n",
       " 'RuntimeBroker.exe',\n",
       " 'WmiPrvSE.exe',\n",
       " 'fontdrvhost.exe',\n",
       " 'python.exe',\n",
       " 'StartMenuExperienceHost.exe',\n",
       " 'UserOOBEBroker.exe',\n",
       " 'dwm.exe',\n",
       " 'cmd.exe',\n",
       " 'WUDFHost.exe',\n",
       " 'nvcontainer.exe',\n",
       " 'WavesSysSvc64.exe',\n",
       " 'QAAgent.exe',\n",
       " 'Video.UI.exe',\n",
       " 'CCleaner64.exe',\n",
       " 'spoolsv.exe',\n",
       " 'LMS.exe',\n",
       " 'Memory Compression',\n",
       " 'ACEMon.exe',\n",
       " 'PSAdminAgent.exe',\n",
       " 'PSSvc.exe',\n",
       " 'QASvc.exe',\n",
       " 'SearchIndexer.exe',\n",
       " 'HxOutlook.exe',\n",
       " 'SearchFilterHost.exe',\n",
       " 'EpicGamesLauncher.exe',\n",
       " 'dasHost.exe',\n",
       " 'SecurityHealthSystray.exe',\n",
       " 'RtkAudUService64.exe',\n",
       " 'HxTsr.exe',\n",
       " 'ACCStd.exe',\n",
       " 'ShellExperienceHost.exe',\n",
       " 'smss.exe',\n",
       " 'jupyter.exe',\n",
       " 'SecurityHealthService.exe',\n",
       " 'SDXHelperBgt.exe',\n",
       " 'SpeechRuntime.exe',\n",
       " 'flux.exe']"
      ]
     },
     "execution_count": 10,
     "metadata": {},
     "output_type": "execute_result"
    }
   ],
   "source": [
    " get_running_processes()"
   ]
  },
  {
   "cell_type": "markdown",
   "metadata": {},
   "source": [
    "matamos un proceso en este caso el de paint"
   ]
  },
  {
   "cell_type": "code",
   "execution_count": 11,
   "metadata": {},
   "outputs": [
    {
     "data": {
      "text/plain": [
       "0"
      ]
     },
     "execution_count": 11,
     "metadata": {},
     "output_type": "execute_result"
    }
   ],
   "source": [
    " kill_process('mspaint.exe')"
   ]
  },
  {
   "cell_type": "markdown",
   "metadata": {},
   "source": [
    "## Terminal"
   ]
  },
  {
   "cell_type": "markdown",
   "metadata": {},
   "source": [
    "este comando nos mermitira conectar a un destok remoto atravez de ssh"
   ]
  },
  {
   "cell_type": "code",
   "execution_count": 12,
   "metadata": {},
   "outputs": [
    {
     "data": {
      "text/plain": [
       "(b'', b'ssh: connect to host  port 22: Connection refused\\r\\n')"
      ]
     },
     "execution_count": 12,
     "metadata": {},
     "output_type": "execute_result"
    }
   ],
   "source": [
    "run_ssh_command('admin',' 120.28.150.213', 'ls -a')"
   ]
  }
 ],
 "metadata": {
  "kernelspec": {
   "display_name": "Python 3",
   "language": "python",
   "name": "python3"
  },
  "language_info": {
   "codemirror_mode": {
    "name": "ipython",
    "version": 3
   },
   "file_extension": ".py",
   "mimetype": "text/x-python",
   "name": "python",
   "nbconvert_exporter": "python",
   "pygments_lexer": "ipython3",
   "version": "3.7.7"
  }
 },
 "nbformat": 4,
 "nbformat_minor": 4
}
