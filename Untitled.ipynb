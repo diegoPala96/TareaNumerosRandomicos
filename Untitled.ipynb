{
 "cells": [
  {
   "cell_type": "code",
   "execution_count": 11,
   "metadata": {},
   "outputs": [],
   "source": [
    "from automagica import *\n",
    "\n",
    "\n",
    "#recorder()\n",
    "#click(\"click\")\n"
   ]
  },
  {
   "cell_type": "code",
   "execution_count": 14,
   "metadata": {},
   "outputs": [
    {
     "name": "stdout",
     "output_type": "stream",
     "text": [
      "<class 'FileNotFoundError'>\n"
     ]
    }
   ],
   "source": [
    "# Importing the Libraries\n",
    "import win32com.client\n",
    "import sys\n",
    "import subprocess\n",
    "import time\n",
    "\n",
    "\n",
    "# This function will Login to SAP from the SAP Logon window\n",
    "\n",
    "def saplogin():\n",
    "\n",
    "    try:\n",
    "\n",
    "        path = r\"C:\\Program Files (x86)\\SAP\\FrontEnd\\SAPgui\\saplogon.exe\"\n",
    "        subprocess.Popen(path)\n",
    "        time.sleep(10)\n",
    "\n",
    "        SapGuiAuto = win32com.client.GetObject('SAPGUI')\n",
    "        if not type(SapGuiAuto) == win32com.client.CDispatch:\n",
    "            return\n",
    "\n",
    "        application = SapGuiAuto.GetScriptingEngine\n",
    "        if not type(application) == win32com.client.CDispatch:\n",
    "            SapGuiAuto = None\n",
    "            return\n",
    "        connection = application.OpenConnection(\"ConnectionName\", True)\n",
    "\n",
    "        if not type(connection) == win32com.client.CDispatch:\n",
    "            application = None\n",
    "            SapGuiAuto = None\n",
    "            return\n",
    "\n",
    "        session = connection.Children(0)\n",
    "        if not type(session) == win32com.client.CDispatch:\n",
    "            connection = None\n",
    "            application = None\n",
    "            SapGuiAuto = None\n",
    "            return\n",
    "\n",
    "        session.findById(\"wnd[0]/usr/txtRSYST-BNAME\").text = \"USERNAME\"\n",
    "        session.findById(\"wnd[0]/usr/pwdRSYST-BCODE\").text = \"PASSWORD\"\n",
    "        session.findById(\"wnd[0]\").sendVKey(0)\n",
    "\n",
    "    except:\n",
    "        print(sys.exc_info()[0])\n",
    "\n",
    "    finally:\n",
    "        session = None\n",
    "        connection = None\n",
    "        application = None\n",
    "        SapGuiAuto = None\n",
    "\n",
    "\n",
    "saplogin()"
   ]
  }
 ],
 "metadata": {
  "kernelspec": {
   "display_name": "Python 3",
   "language": "python",
   "name": "python3"
  },
  "language_info": {
   "codemirror_mode": {
    "name": "ipython",
    "version": 3
   },
   "file_extension": ".py",
   "mimetype": "text/x-python",
   "name": "python",
   "nbconvert_exporter": "python",
   "pygments_lexer": "ipython3",
   "version": "3.7.7"
  }
 },
 "nbformat": 4,
 "nbformat_minor": 4
}
