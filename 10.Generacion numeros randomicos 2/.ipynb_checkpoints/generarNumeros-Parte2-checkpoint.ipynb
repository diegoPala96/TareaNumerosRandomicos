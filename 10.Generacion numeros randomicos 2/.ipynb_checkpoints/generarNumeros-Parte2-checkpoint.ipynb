{
 "cells": [
  {
   "cell_type": "markdown",
   "metadata": {},
   "source": [
    "# Generación de numeros randomicos\n",
    "Realizado por: Diego Palacios.\n",
    "\n",
    "Realizar la generación de numeros randomicos con el metodo indicado en clases de debe consideras como parametros iniciales :\n",
    "\n",
    "Numero de interacciones <br>\n",
    "a<br>\n",
    "c<br>\n",
    "m<br>\n",
    "X0"
   ]
  },
  {
   "cell_type": "code",
   "execution_count": 17,
   "metadata": {},
   "outputs": [
    {
     "name": "stdout",
     "output_type": "stream",
     "text": [
      "ingrese el numero de iteraciones\n",
      "35\n",
      "ingrese a\n",
      "3\n",
      "ingrese c \n",
      "5\n",
      "ingrese m \n",
      "19\n",
      "ingrese X0 \n",
      "4440\n"
     ]
    }
   ],
   "source": [
    "print(\"ingrese el numero de iteraciones\")\n",
    "iteraciones= int(input())\n",
    "print(\"ingrese a\")\n",
    "a=int(input())\n",
    "print(\"ingrese c \")\n",
    "c=int(input())\n",
    "print(\"ingrese m \")\n",
    "m=int(input())\n",
    "\n",
    "print(\"ingrese X0 \")\n",
    "x=int(input())\n"
   ]
  },
  {
   "cell_type": "code",
   "execution_count": 18,
   "metadata": {},
   "outputs": [
    {
     "name": "stdout",
     "output_type": "stream",
     "text": [
      "iteracion \t xn \t un\n",
      "0 \t \t 4440 \t 0\n",
      "1 \t \t 6 \t 0.3157894736842105\n",
      "2 \t \t 4 \t 0.21052631578947367\n",
      "3 \t \t 17 \t 0.8947368421052632\n",
      "4 \t \t 18 \t 0.9473684210526315\n",
      "5 \t \t 2 \t 0.10526315789473684\n",
      "6 \t \t 11 \t 0.5789473684210527\n",
      "7 \t \t 0 \t 0.0\n",
      "8 \t \t 5 \t 0.2631578947368421\n",
      "9 \t \t 1 \t 0.05263157894736842\n",
      "10 \t \t 8 \t 0.42105263157894735\n",
      "11 \t \t 10 \t 0.5263157894736842\n",
      "12 \t \t 16 \t 0.8421052631578947\n",
      "13 \t \t 15 \t 0.7894736842105263\n",
      "14 \t \t 12 \t 0.631578947368421\n",
      "15 \t \t 3 \t 0.15789473684210525\n",
      "16 \t \t 14 \t 0.7368421052631579\n",
      "17 \t \t 9 \t 0.47368421052631576\n",
      "18 \t \t 13 \t 0.6842105263157895\n",
      "19 \t \t 6 \t 0.3157894736842105\n",
      "20 \t \t 4 \t 0.21052631578947367\n",
      "21 \t \t 17 \t 0.8947368421052632\n",
      "22 \t \t 18 \t 0.9473684210526315\n",
      "23 \t \t 2 \t 0.10526315789473684\n",
      "24 \t \t 11 \t 0.5789473684210527\n",
      "25 \t \t 0 \t 0.0\n",
      "26 \t \t 5 \t 0.2631578947368421\n",
      "27 \t \t 1 \t 0.05263157894736842\n",
      "28 \t \t 8 \t 0.42105263157894735\n",
      "29 \t \t 10 \t 0.5263157894736842\n",
      "30 \t \t 16 \t 0.8421052631578947\n",
      "31 \t \t 15 \t 0.7894736842105263\n",
      "32 \t \t 12 \t 0.631578947368421\n",
      "33 \t \t 3 \t 0.15789473684210525\n",
      "34 \t \t 14 \t 0.7368421052631579\n"
     ]
    }
   ],
   "source": [
    "xn=x\n",
    "un=0\n",
    "print(\"iteracion \\t xn \\t un\")\n",
    "for i in range(iteraciones):\n",
    "   \n",
    "    print(i,\"\\t \\t\",xn,\"\\t\",un)\n",
    "    \n",
    "    xn=(a*xn+c)%m\n",
    "    un=xn/m\n",
    "   "
   ]
  }
 ],
 "metadata": {
  "kernelspec": {
   "display_name": "Python 3",
   "language": "python",
   "name": "python3"
  },
  "language_info": {
   "codemirror_mode": {
    "name": "ipython",
    "version": 3
   },
   "file_extension": ".py",
   "mimetype": "text/x-python",
   "name": "python",
   "nbconvert_exporter": "python",
   "pygments_lexer": "ipython3",
   "version": "3.7.7"
  }
 },
 "nbformat": 4,
 "nbformat_minor": 4
}
